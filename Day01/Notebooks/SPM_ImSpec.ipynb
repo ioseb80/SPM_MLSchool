{
  "nbformat": 4,
  "nbformat_minor": 0,
  "metadata": {
    "colab": {
      "name": "SPM_ImSpec.ipynb",
      "provenance": [],
      "collapsed_sections": [],
      "include_colab_link": true
    },
    "kernelspec": {
      "name": "python3",
      "display_name": "Python 3"
    },
    "accelerator": "GPU"
  },
  "cells": [
    {
      "cell_type": "markdown",
      "metadata": {
        "id": "view-in-github",
        "colab_type": "text"
      },
      "source": [
        "<a href=\"https://colab.research.google.com/github/aghosh92/SPM_ML_School_2021/blob/main/Day01/Notebooks/SPM_ImSpec.ipynb\" target=\"_parent\"><img src=\"https://colab.research.google.com/assets/colab-badge.svg\" alt=\"Open In Colab\"/></a>"
      ]
    },
    {
      "cell_type": "markdown",
      "metadata": {
        "id": "Ekny4V0iZeKu"
      },
      "source": [
        "# Im2Spec models for predicting property (spectrum) from structure (image)\n",
        "\n",
        "*  *Notebook prepared by Maxim Ziatdinov  (email: ziatdinovmax@gmail.com)*\n",
        "*Presented by Ayana Ghosh\n",
        "\n",
        "*  The experimental SPM data was collected by Kyle Kelley\n",
        "\n",
        "---\n",
        "\n",
        "This notebook demonstrates usage of encoder-decoder neural networks for predicting spectra (property/functionality) from images (structure) using the *im2spec* deep learning model. In the *im2spec* approach, the sub-images representing a local structure are “compressed” via a convolutional neural network architecture to the small number of latent variables, and the latter are “deconvoluted” to yield the spectra. The architecture of the *im2spec* model is straightforward. It consists of two parts: an encoder for embedding input images into a latent vector and a decoder for generating one-dimensional signals from the embedded features. The encoder part consists of three back-to-back two-dimensional convolutional layers, whereas the decoder part represents a cascade of one-dimensional dilated convolutions with dilation rates of 1, 2, 3, and 4. The dilated convolutions showed superior performance compared to regular convolutional blocks in the decoder. Each convolutional layer in both encoder and decoder parts is formed by running 64 filters (“kernels”) of size 3 on its input and is activated by a leaky rectified linear unit with a negative slope of 0.1. The batch normalization is applied after each activation to avoid overfitting and improve generalization to new data. The “bottleneck” layer for representing the latent vector is a fully connected layer with the number of neurons equal to the specified number of latent dimensions. \n",
        "\n",
        "<img src=\"https://drive.google.com/uc?export=view&id=18cvXfDdpy1Ij-p1T-jALa_nBZ0iRsalW\" width=800 px><br><br>\n",
        "\n",
        "\n",
        "The assumption is of course that there is only a small variability of spectral behaviour within each (sub)-image. Here we are going to apply the *imspec* approach to two different datasets: i) SPM BEPS dataset obtained by Kyle Kelley (see [this](https://pubs.acs.org/doi/abs/10.1021/acsami.0c15085)) paper.\n",
        "\n",
        "\n",
        "---\n",
        "\n",
        "\n",
        "\n",
        "\n"
      ]
    },
    {
      "cell_type": "markdown",
      "metadata": {
        "id": "eAV1Jun1k4xo"
      },
      "source": [
        "Install AtomAI:"
      ]
    },
    {
      "cell_type": "code",
      "metadata": {
        "id": "RTTKRtL4rb7C",
        "colab": {
          "base_uri": "https://localhost:8080/"
        },
        "outputId": "6bcd2237-579e-40f6-845f-098b525431cc"
      },
      "source": [
        "!pip install atomai"
      ],
      "execution_count": null,
      "outputs": [
        {
          "output_type": "stream",
          "name": "stdout",
          "text": [
            "Collecting atomai\n",
            "  Downloading atomai-0.7.3-py3-none-any.whl (146 kB)\n",
            "\u001b[?25l\r\u001b[K     |██▎                             | 10 kB 26.8 MB/s eta 0:00:01\r\u001b[K     |████▌                           | 20 kB 28.3 MB/s eta 0:00:01\r\u001b[K     |██████▊                         | 30 kB 9.5 MB/s eta 0:00:01\r\u001b[K     |█████████                       | 40 kB 11.7 MB/s eta 0:00:01\r\u001b[K     |███████████▏                    | 51 kB 8.0 MB/s eta 0:00:01\r\u001b[K     |█████████████▍                  | 61 kB 9.3 MB/s eta 0:00:01\r\u001b[K     |███████████████▋                | 71 kB 8.5 MB/s eta 0:00:01\r\u001b[K     |█████████████████▉              | 81 kB 9.4 MB/s eta 0:00:01\r\u001b[K     |████████████████████            | 92 kB 7.8 MB/s eta 0:00:01\r\u001b[K     |██████████████████████▍         | 102 kB 7.9 MB/s eta 0:00:01\r\u001b[K     |████████████████████████▋       | 112 kB 7.9 MB/s eta 0:00:01\r\u001b[K     |██████████████████████████▉     | 122 kB 7.9 MB/s eta 0:00:01\r\u001b[K     |█████████████████████████████   | 133 kB 7.9 MB/s eta 0:00:01\r\u001b[K     |███████████████████████████████▎| 143 kB 7.9 MB/s eta 0:00:01\r\u001b[K     |████████████████████████████████| 146 kB 7.9 MB/s \n",
            "\u001b[?25hRequirement already satisfied: opencv-python>=4.1.0 in /usr/local/lib/python3.7/dist-packages (from atomai) (4.1.2.30)\n",
            "Requirement already satisfied: torch>=1.0.0 in /usr/local/lib/python3.7/dist-packages (from atomai) (1.9.0+cu102)\n",
            "Requirement already satisfied: numpy>=1.18.5 in /usr/local/lib/python3.7/dist-packages (from atomai) (1.19.5)\n",
            "Requirement already satisfied: matplotlib<3.4,>=3.2 in /usr/local/lib/python3.7/dist-packages (from atomai) (3.2.2)\n",
            "Requirement already satisfied: scikit-learn>=0.22.1 in /usr/local/lib/python3.7/dist-packages (from atomai) (0.22.2.post1)\n",
            "Collecting mendeleev<=0.6.1\n",
            "  Downloading mendeleev-0.6.1.tar.gz (193 kB)\n",
            "\u001b[K     |████████████████████████████████| 193 kB 50.4 MB/s \n",
            "\u001b[?25hRequirement already satisfied: scikit-image>=0.16.2 in /usr/local/lib/python3.7/dist-packages (from atomai) (0.16.2)\n",
            "Requirement already satisfied: networkx>=2.5 in /usr/local/lib/python3.7/dist-packages (from atomai) (2.6.3)\n",
            "Collecting gpytorch>=1.4.0\n",
            "  Downloading gpytorch-1.5.1-py2.py3-none-any.whl (503 kB)\n",
            "\u001b[K     |████████████████████████████████| 503 kB 52.8 MB/s \n",
            "\u001b[?25hRequirement already satisfied: scipy>=1.3.0 in /usr/local/lib/python3.7/dist-packages (from atomai) (1.4.1)\n",
            "Requirement already satisfied: progressbar2>=3.38.0 in /usr/local/lib/python3.7/dist-packages (from atomai) (3.38.0)\n",
            "Requirement already satisfied: torchvision>=0.8.0 in /usr/local/lib/python3.7/dist-packages (from atomai) (0.10.0+cu102)\n",
            "Requirement already satisfied: cycler>=0.10 in /usr/local/lib/python3.7/dist-packages (from matplotlib<3.4,>=3.2->atomai) (0.10.0)\n",
            "Requirement already satisfied: pyparsing!=2.0.4,!=2.1.2,!=2.1.6,>=2.0.1 in /usr/local/lib/python3.7/dist-packages (from matplotlib<3.4,>=3.2->atomai) (2.4.7)\n",
            "Requirement already satisfied: python-dateutil>=2.1 in /usr/local/lib/python3.7/dist-packages (from matplotlib<3.4,>=3.2->atomai) (2.8.2)\n",
            "Requirement already satisfied: kiwisolver>=1.0.1 in /usr/local/lib/python3.7/dist-packages (from matplotlib<3.4,>=3.2->atomai) (1.3.2)\n",
            "Requirement already satisfied: six in /usr/local/lib/python3.7/dist-packages (from cycler>=0.10->matplotlib<3.4,>=3.2->atomai) (1.15.0)\n",
            "Requirement already satisfied: pandas in /usr/local/lib/python3.7/dist-packages (from mendeleev<=0.6.1->atomai) (1.1.5)\n",
            "Requirement already satisfied: sqlalchemy>=1.3.0 in /usr/local/lib/python3.7/dist-packages (from mendeleev<=0.6.1->atomai) (1.4.25)\n",
            "Collecting colorama\n",
            "  Downloading colorama-0.4.4-py2.py3-none-any.whl (16 kB)\n",
            "Collecting pyfiglet\n",
            "  Downloading pyfiglet-0.8.post1-py2.py3-none-any.whl (865 kB)\n",
            "\u001b[K     |████████████████████████████████| 865 kB 55.9 MB/s \n",
            "\u001b[?25hRequirement already satisfied: python-utils>=2.3.0 in /usr/local/lib/python3.7/dist-packages (from progressbar2>=3.38.0->atomai) (2.5.6)\n",
            "Requirement already satisfied: pillow>=4.3.0 in /usr/local/lib/python3.7/dist-packages (from scikit-image>=0.16.2->atomai) (7.1.2)\n",
            "Requirement already satisfied: imageio>=2.3.0 in /usr/local/lib/python3.7/dist-packages (from scikit-image>=0.16.2->atomai) (2.4.1)\n",
            "Requirement already satisfied: PyWavelets>=0.4.0 in /usr/local/lib/python3.7/dist-packages (from scikit-image>=0.16.2->atomai) (1.1.1)\n",
            "Requirement already satisfied: joblib>=0.11 in /usr/local/lib/python3.7/dist-packages (from scikit-learn>=0.22.1->atomai) (1.0.1)\n",
            "Requirement already satisfied: greenlet!=0.4.17 in /usr/local/lib/python3.7/dist-packages (from sqlalchemy>=1.3.0->mendeleev<=0.6.1->atomai) (1.1.1)\n",
            "Requirement already satisfied: importlib-metadata in /usr/local/lib/python3.7/dist-packages (from sqlalchemy>=1.3.0->mendeleev<=0.6.1->atomai) (4.8.1)\n",
            "Requirement already satisfied: typing-extensions in /usr/local/lib/python3.7/dist-packages (from torch>=1.0.0->atomai) (3.7.4.3)\n",
            "Requirement already satisfied: zipp>=0.5 in /usr/local/lib/python3.7/dist-packages (from importlib-metadata->sqlalchemy>=1.3.0->mendeleev<=0.6.1->atomai) (3.5.0)\n",
            "Requirement already satisfied: pytz>=2017.2 in /usr/local/lib/python3.7/dist-packages (from pandas->mendeleev<=0.6.1->atomai) (2018.9)\n",
            "Building wheels for collected packages: mendeleev\n",
            "  Building wheel for mendeleev (setup.py) ... \u001b[?25l\u001b[?25hdone\n",
            "  Created wheel for mendeleev: filename=mendeleev-0.6.1-py2.py3-none-any.whl size=174982 sha256=2dca8c9a029369f782e3305bf81951c672e6ed4779ae5db807bb4f6af94a3501\n",
            "  Stored in directory: /root/.cache/pip/wheels/f4/4e/dd/06777c90710ce1766376ecc87979967fe69ff3affc29c0b530\n",
            "Successfully built mendeleev\n",
            "Installing collected packages: pyfiglet, colorama, mendeleev, gpytorch, atomai\n",
            "Successfully installed atomai-0.7.3 colorama-0.4.4 gpytorch-1.5.1 mendeleev-0.6.1 pyfiglet-0.8.post1\n"
          ]
        }
      ]
    },
    {
      "cell_type": "markdown",
      "metadata": {
        "id": "hLMdVgNctiZw"
      },
      "source": [
        "Imports:"
      ]
    },
    {
      "cell_type": "code",
      "metadata": {
        "id": "aMbJ68Wytb-1"
      },
      "source": [
        "import atomai as aoi\n",
        "import numpy as np\n",
        "import matplotlib.pyplot as plt"
      ],
      "execution_count": null,
      "outputs": []
    },
    {
      "cell_type": "markdown",
      "metadata": {
        "id": "gBUTYEG0k5fJ"
      },
      "source": [
        "(Down)load training data:"
      ]
    },
    {
      "cell_type": "markdown",
      "metadata": {
        "id": "j1jk_lsQU7H6"
      },
      "source": [
        "## Application to SPM BEPS data"
      ]
    },
    {
      "cell_type": "markdown",
      "metadata": {
        "id": "IfQrBpnDU1Em"
      },
      "source": [
        "(Down)load training data:"
      ]
    },
    {
      "cell_type": "code",
      "metadata": {
        "colab": {
          "base_uri": "https://localhost:8080/"
        },
        "id": "LYchGqCQvz-m",
        "outputId": "7b200e75-9606-404f-a754-1b2158d81906"
      },
      "source": [
        "!wget -O \"imspec_data.npz\" https://www.dropbox.com/s/os0weihai4l1kf8/im2spec.zip?dl=1\n",
        "\n",
        "dataset = np.load('imspec_data.npz')\n",
        "imgs = dataset['im2spec_images']\n",
        "spectra = dataset['im2spec_spectra']\n",
        "specval = dataset['im2spec_specval']"
      ],
      "execution_count": null,
      "outputs": [
        {
          "output_type": "stream",
          "name": "stdout",
          "text": [
            "--2021-10-04 00:33:02--  https://www.dropbox.com/s/os0weihai4l1kf8/im2spec.zip?dl=1\n",
            "Resolving www.dropbox.com (www.dropbox.com)... 162.125.1.18, 2620:100:6016:18::a27d:112\n",
            "Connecting to www.dropbox.com (www.dropbox.com)|162.125.1.18|:443... connected.\n",
            "HTTP request sent, awaiting response... 301 Moved Permanently\n",
            "Location: /s/dl/os0weihai4l1kf8/im2spec.zip [following]\n",
            "--2021-10-04 00:33:02--  https://www.dropbox.com/s/dl/os0weihai4l1kf8/im2spec.zip\n",
            "Reusing existing connection to www.dropbox.com:443.\n",
            "HTTP request sent, awaiting response... 302 Found\n",
            "Location: https://ucb8494c1e5207ac19e216e2a47a.dl.dropboxusercontent.com/cd/0/get/BXVhLn4oAxzkVTBP76IPDmRP5hruI_vgYpW_tiORLb3vVWmPyRzEqHwuH864YGKlj9n_3tKVO_IaJ6XaDLkUUoPqvnUY_K7BQRO07l9TitDufkEfYYxfrmk662X5oWuzr0ry5Onx6V7FPkhslQ1BtlKv/file?dl=1# [following]\n",
            "--2021-10-04 00:33:03--  https://ucb8494c1e5207ac19e216e2a47a.dl.dropboxusercontent.com/cd/0/get/BXVhLn4oAxzkVTBP76IPDmRP5hruI_vgYpW_tiORLb3vVWmPyRzEqHwuH864YGKlj9n_3tKVO_IaJ6XaDLkUUoPqvnUY_K7BQRO07l9TitDufkEfYYxfrmk662X5oWuzr0ry5Onx6V7FPkhslQ1BtlKv/file?dl=1\n",
            "Resolving ucb8494c1e5207ac19e216e2a47a.dl.dropboxusercontent.com (ucb8494c1e5207ac19e216e2a47a.dl.dropboxusercontent.com)... 162.125.1.15, 2620:100:6016:15::a27d:10f\n",
            "Connecting to ucb8494c1e5207ac19e216e2a47a.dl.dropboxusercontent.com (ucb8494c1e5207ac19e216e2a47a.dl.dropboxusercontent.com)|162.125.1.15|:443... connected.\n",
            "HTTP request sent, awaiting response... 200 OK\n",
            "Length: 467788 (457K) [application/binary]\n",
            "Saving to: ‘imspec_data.npz’\n",
            "\n",
            "imspec_data.npz     100%[===================>] 456.82K  1.81MB/s    in 0.2s    \n",
            "\n",
            "2021-10-04 00:33:04 (1.81 MB/s) - ‘imspec_data.npz’ saved [467788/467788]\n",
            "\n"
          ]
        }
      ]
    },
    {
      "cell_type": "markdown",
      "metadata": {
        "id": "jUeeqy58VCEo"
      },
      "source": [
        "Visualize individual image spectra pairs:"
      ]
    },
    {
      "cell_type": "code",
      "metadata": {
        "colab": {
          "base_uri": "https://localhost:8080/",
          "height": 282
        },
        "id": "SmcZaGOzVFa_",
        "outputId": "e9949663-6104-474f-b846-4722370cde3d"
      },
      "source": [
        "k = 35\n",
        "_, (ax1, ax2) = plt.subplots(1, 2, figsize=(9, 4))\n",
        "ax1.imshow(imgs[k], cmap='gray')\n",
        "ax2.plot(specval[0, :64], spectra[k])"
      ],
      "execution_count": null,
      "outputs": [
        {
          "output_type": "execute_result",
          "data": {
            "text/plain": [
              "[<matplotlib.lines.Line2D at 0x7fa279771dd0>]"
            ]
          },
          "metadata": {},
          "execution_count": 4
        },
        {
          "output_type": "display_data",
          "data": {
            "image/png": "[encoded data removed]",
            "text/plain": [
              "<Figure size 648x288 with 2 Axes>"
            ]
          },
          "metadata": {
            "needs_background": "light"
          }
        }
      ]
    },
    {
      "cell_type": "markdown",
      "metadata": {
        "id": "Xdx-kP9E60SH"
      },
      "source": [
        "Train-test split:"
      ]
    },
    {
      "cell_type": "code",
      "metadata": {
        "id": "ejgyv6Fd3EEo"
      },
      "source": [
        "imgs_train, spectra_train, imgs_test, spectra_test = aoi.utils.data_split(imgs, spectra, format_out=\"torch_float\")"
      ],
      "execution_count": null,
      "outputs": []
    },
    {
      "cell_type": "markdown",
      "metadata": {
        "id": "-HzP6F7xWcaC"
      },
      "source": [
        "Initialize and train ImSpec model:"
      ]
    },
    {
      "cell_type": "code",
      "metadata": {
        "colab": {
          "base_uri": "https://localhost:8080/",
          "height": 1000
        },
        "id": "vO_RmdtD3MCq",
        "outputId": "c8decd65-f421-4604-f468-62dd910c121b"
      },
      "source": [
        "in_dim = (16, 16)\n",
        "out_dim = (64,)\n",
        "\n",
        "model = aoi.models.ImSpec(in_dim, out_dim, latent_dim=10, seed=2)\n",
        "\n",
        "model.fit(imgs_train, spectra_train, imgs_test, spectra_test,  # training data\n",
        "          full_epoch=True, training_cycles=120, swa=True, batch_norm=True)  # training parameters"
      ],
      "execution_count": null,
      "outputs": [
        {
          "output_type": "stream",
          "name": "stderr",
          "text": [
            "/usr/local/lib/python3.7/dist-packages/atomai/utils/preproc.py:89: UserWarning: Adding a channel dimension of 1 to training images\n",
            "  UserWarning)\n",
            "/usr/local/lib/python3.7/dist-packages/atomai/utils/preproc.py:94: UserWarning: Adding a channel dimension of 1 to test images\n",
            "  UserWarning)\n",
            "/usr/local/lib/python3.7/dist-packages/atomai/utils/preproc.py:99: UserWarning: Adding a channel dimension of 1 to training spectra\n",
            "  UserWarning)\n",
            "/usr/local/lib/python3.7/dist-packages/atomai/utils/preproc.py:104: UserWarning: Adding a channel dimension of 1 to test spectra\n",
            "  UserWarning)\n"
          ]
        },
        {
          "output_type": "stream",
          "name": "stdout",
          "text": [
            "Epoch 1/120 ... Training loss: 26.2655 ... Test loss: 26.1193 ... GPU memory usage: 1021/16280\n",
            "Epoch 2/120 ... Training loss: 24.8625 ... Test loss: 24.556 ... GPU memory usage: 1021/16280\n",
            "Epoch 3/120 ... Training loss: 24.4622 ... Test loss: 24.4444 ... GPU memory usage: 1021/16280\n",
            "Epoch 4/120 ... Training loss: 23.912 ... Test loss: 24.334 ... GPU memory usage: 1021/16280\n",
            "Epoch 5/120 ... Training loss: 23.6223 ... Test loss: 24.0959 ... GPU memory usage: 1021/16280\n",
            "Epoch 6/120 ... Training loss: 23.0279 ... Test loss: 23.29 ... GPU memory usage: 1021/16280\n",
            "Epoch 7/120 ... Training loss: 22.7258 ... Test loss: 22.4632 ... GPU memory usage: 1021/16280\n",
            "Epoch 8/120 ... Training loss: 22.2042 ... Test loss: 22.1205 ... GPU memory usage: 1021/16280\n",
            "Epoch 9/120 ... Training loss: 21.8968 ... Test loss: 21.8093 ... GPU memory usage: 1021/16280\n",
            "Epoch 10/120 ... Training loss: 21.3942 ... Test loss: 21.5081 ... GPU memory usage: 1021/16280\n",
            "Epoch 11/120 ... Training loss: 21.0562 ... Test loss: 20.8997 ... GPU memory usage: 1021/16280\n",
            "Epoch 12/120 ... Training loss: 20.6098 ... Test loss: 20.1573 ... GPU memory usage: 1021/16280\n",
            "Epoch 13/120 ... Training loss: 20.1965 ... Test loss: 20.261 ... GPU memory usage: 1021/16280\n",
            "Epoch 14/120 ... Training loss: 19.8283 ... Test loss: 19.5891 ... GPU memory usage: 1021/16280\n",
            "Epoch 15/120 ... Training loss: 19.368 ... Test loss: 19.1898 ... GPU memory usage: 1021/16280\n",
            "Epoch 16/120 ... Training loss: 18.9645 ... Test loss: 18.5805 ... GPU memory usage: 1021/16280\n",
            "Epoch 17/120 ... Training loss: 18.5114 ... Test loss: 17.7818 ... GPU memory usage: 1021/16280\n",
            "Epoch 18/120 ... Training loss: 17.9857 ... Test loss: 17.7148 ... GPU memory usage: 1021/16280\n",
            "Epoch 19/120 ... Training loss: 17.7264 ... Test loss: 17.385 ... GPU memory usage: 1021/16280\n",
            "Epoch 20/120 ... Training loss: 17.357 ... Test loss: 17.0083 ... GPU memory usage: 1021/16280\n",
            "Epoch 21/120 ... Training loss: 16.7871 ... Test loss: 16.7338 ... GPU memory usage: 1021/16280\n",
            "Epoch 22/120 ... Training loss: 16.4203 ... Test loss: 16.861 ... GPU memory usage: 1021/16280\n",
            "Epoch 23/120 ... Training loss: 15.9242 ... Test loss: 16.1612 ... GPU memory usage: 1021/16280\n",
            "Epoch 24/120 ... Training loss: 15.5411 ... Test loss: 15.36 ... GPU memory usage: 1021/16280\n",
            "Epoch 25/120 ... Training loss: 15.2858 ... Test loss: 15.1038 ... GPU memory usage: 1021/16280\n",
            "Epoch 26/120 ... Training loss: 14.8221 ... Test loss: 14.6922 ... GPU memory usage: 1021/16280\n",
            "Epoch 27/120 ... Training loss: 14.4038 ... Test loss: 14.5851 ... GPU memory usage: 1021/16280\n",
            "Epoch 28/120 ... Training loss: 13.9487 ... Test loss: 14.2366 ... GPU memory usage: 1021/16280\n",
            "Epoch 29/120 ... Training loss: 13.4757 ... Test loss: 13.6334 ... GPU memory usage: 1021/16280\n",
            "Epoch 30/120 ... Training loss: 13.1617 ... Test loss: 12.9957 ... GPU memory usage: 1021/16280\n",
            "Epoch 31/120 ... Training loss: 12.8001 ... Test loss: 12.656 ... GPU memory usage: 1021/16280\n",
            "Epoch 32/120 ... Training loss: 12.4025 ... Test loss: 12.5398 ... GPU memory usage: 1021/16280\n",
            "Epoch 33/120 ... Training loss: 11.9787 ... Test loss: 12.183 ... GPU memory usage: 1021/16280\n",
            "Epoch 34/120 ... Training loss: 11.6403 ... Test loss: 11.2269 ... GPU memory usage: 1021/16280\n",
            "Epoch 35/120 ... Training loss: 11.2475 ... Test loss: 11.7898 ... GPU memory usage: 1021/16280\n",
            "Epoch 36/120 ... Training loss: 10.8962 ... Test loss: 10.7065 ... GPU memory usage: 1021/16280\n",
            "Epoch 37/120 ... Training loss: 10.4529 ... Test loss: 10.4114 ... GPU memory usage: 1021/16280\n",
            "Epoch 38/120 ... Training loss: 10.1862 ... Test loss: 10.3244 ... GPU memory usage: 1021/16280\n",
            "Epoch 39/120 ... Training loss: 9.759 ... Test loss: 9.8013 ... GPU memory usage: 1021/16280\n",
            "Epoch 40/120 ... Training loss: 9.4042 ... Test loss: 9.4672 ... GPU memory usage: 1021/16280\n",
            "Epoch 41/120 ... Training loss: 9.022 ... Test loss: 9.1194 ... GPU memory usage: 1021/16280\n",
            "Epoch 42/120 ... Training loss: 8.747 ... Test loss: 9.0142 ... GPU memory usage: 1021/16280\n",
            "Epoch 43/120 ... Training loss: 8.3669 ... Test loss: 8.7372 ... GPU memory usage: 1021/16280\n",
            "Epoch 44/120 ... Training loss: 8.0804 ... Test loss: 8.4192 ... GPU memory usage: 1021/16280\n",
            "Epoch 45/120 ... Training loss: 7.7081 ... Test loss: 7.5 ... GPU memory usage: 1021/16280\n",
            "Epoch 46/120 ... Training loss: 7.467 ... Test loss: 7.783 ... GPU memory usage: 1021/16280\n",
            "Epoch 47/120 ... Training loss: 7.1104 ... Test loss: 7.3342 ... GPU memory usage: 1021/16280\n",
            "Epoch 48/120 ... Training loss: 6.7793 ... Test loss: 6.5696 ... GPU memory usage: 1021/16280\n",
            "Epoch 49/120 ... Training loss: 6.534 ... Test loss: 6.8505 ... GPU memory usage: 1021/16280\n",
            "Epoch 50/120 ... Training loss: 6.2614 ... Test loss: 6.4908 ... GPU memory usage: 1021/16280\n",
            "Epoch 51/120 ... Training loss: 5.9387 ... Test loss: 5.6607 ... GPU memory usage: 1021/16280\n",
            "Epoch 52/120 ... Training loss: 5.7243 ... Test loss: 5.8567 ... GPU memory usage: 1021/16280\n",
            "Epoch 53/120 ... Training loss: 5.4995 ... Test loss: 5.3322 ... GPU memory usage: 1021/16280\n",
            "Epoch 54/120 ... Training loss: 5.1932 ... Test loss: 5.6528 ... GPU memory usage: 1021/16280\n",
            "Epoch 55/120 ... Training loss: 4.9644 ... Test loss: 5.6023 ... GPU memory usage: 1021/16280\n",
            "Epoch 56/120 ... Training loss: 4.7363 ... Test loss: 5.3623 ... GPU memory usage: 1021/16280\n",
            "Epoch 57/120 ... Training loss: 4.5358 ... Test loss: 5.1061 ... GPU memory usage: 1021/16280\n",
            "Epoch 58/120 ... Training loss: 4.2911 ... Test loss: 4.6026 ... GPU memory usage: 1021/16280\n",
            "Epoch 59/120 ... Training loss: 4.1365 ... Test loss: 4.4617 ... GPU memory usage: 1021/16280\n",
            "Epoch 60/120 ... Training loss: 3.8903 ... Test loss: 4.2615 ... GPU memory usage: 1021/16280\n",
            "Epoch 61/120 ... Training loss: 3.7442 ... Test loss: 3.8633 ... GPU memory usage: 1021/16280\n",
            "Epoch 62/120 ... Training loss: 3.5272 ... Test loss: 3.9025 ... GPU memory usage: 1021/16280\n",
            "Epoch 63/120 ... Training loss: 3.3309 ... Test loss: 3.7777 ... GPU memory usage: 1021/16280\n",
            "Epoch 64/120 ... Training loss: 3.1566 ... Test loss: 3.6739 ... GPU memory usage: 1021/16280\n",
            "Epoch 65/120 ... Training loss: 3.0128 ... Test loss: 3.7254 ... GPU memory usage: 1021/16280\n",
            "Epoch 66/120 ... Training loss: 2.8542 ... Test loss: 3.4731 ... GPU memory usage: 1021/16280\n",
            "Epoch 67/120 ... Training loss: 2.6895 ... Test loss: 3.1692 ... GPU memory usage: 1021/16280\n",
            "Epoch 68/120 ... Training loss: 2.5468 ... Test loss: 3.198 ... GPU memory usage: 1021/16280\n",
            "Epoch 69/120 ... Training loss: 2.3599 ... Test loss: 2.719 ... GPU memory usage: 1021/16280\n",
            "Epoch 70/120 ... Training loss: 2.2907 ... Test loss: 2.6353 ... GPU memory usage: 1021/16280\n",
            "Epoch 71/120 ... Training loss: 2.0959 ... Test loss: 2.3032 ... GPU memory usage: 1021/16280\n",
            "Epoch 72/120 ... Training loss: 2.055 ... Test loss: 2.9443 ... GPU memory usage: 1021/16280\n",
            "Epoch 73/120 ... Training loss: 1.9574 ... Test loss: 2.4318 ... GPU memory usage: 1021/16280\n",
            "Epoch 74/120 ... Training loss: 1.7783 ... Test loss: 2.5617 ... GPU memory usage: 1021/16280\n",
            "Epoch 75/120 ... Training loss: 1.678 ... Test loss: 2.2244 ... GPU memory usage: 1021/16280\n",
            "Epoch 76/120 ... Training loss: 1.5642 ... Test loss: 2.1153 ... GPU memory usage: 1021/16280\n",
            "Epoch 77/120 ... Training loss: 1.5051 ... Test loss: 2.0866 ... GPU memory usage: 1021/16280\n",
            "Epoch 78/120 ... Training loss: 1.4305 ... Test loss: 2.1911 ... GPU memory usage: 1021/16280\n",
            "Epoch 79/120 ... Training loss: 1.3566 ... Test loss: 1.851 ... GPU memory usage: 1021/16280\n",
            "Epoch 80/120 ... Training loss: 1.2371 ... Test loss: 1.6585 ... GPU memory usage: 1021/16280\n",
            "Epoch 81/120 ... Training loss: 1.1774 ... Test loss: 1.4432 ... GPU memory usage: 1021/16280\n",
            "Epoch 82/120 ... Training loss: 1.1242 ... Test loss: 1.5915 ... GPU memory usage: 1021/16280\n",
            "Epoch 83/120 ... Training loss: 1.0527 ... Test loss: 1.5784 ... GPU memory usage: 1021/16280\n",
            "Epoch 84/120 ... Training loss: 1.0146 ... Test loss: 1.7157 ... GPU memory usage: 1021/16280\n",
            "Epoch 85/120 ... Training loss: 0.952 ... Test loss: 1.6859 ... GPU memory usage: 1021/16280\n",
            "Epoch 86/120 ... Training loss: 0.8863 ... Test loss: 1.4512 ... GPU memory usage: 1021/16280\n",
            "Epoch 87/120 ... Training loss: 0.841 ... Test loss: 1.3647 ... GPU memory usage: 1021/16280\n",
            "Epoch 88/120 ... Training loss: 0.7613 ... Test loss: 1.473 ... GPU memory usage: 1021/16280\n",
            "Epoch 89/120 ... Training loss: 0.7259 ... Test loss: 1.316 ... GPU memory usage: 1021/16280\n",
            "Epoch 90/120 ... Training loss: 0.6991 ... Test loss: 1.269 ... GPU memory usage: 1021/16280\n",
            "Epoch 91/120 ... Training loss: 0.6359 ... Test loss: 1.2329 ... GPU memory usage: 1021/16280\n",
            "Epoch 92/120 ... Training loss: 0.6122 ... Test loss: 1.3586 ... GPU memory usage: 1021/16280\n",
            "Epoch 93/120 ... Training loss: 0.5756 ... Test loss: 1.1479 ... GPU memory usage: 1021/16280\n",
            "Epoch 94/120 ... Training loss: 0.5391 ... Test loss: 1.3802 ... GPU memory usage: 1021/16280\n",
            "Epoch 95/120 ... Training loss: 0.5419 ... Test loss: 1.0445 ... GPU memory usage: 1021/16280\n",
            "Epoch 96/120 ... Training loss: 0.4865 ... Test loss: 1.1355 ... GPU memory usage: 1021/16280\n",
            "Epoch 97/120 ... Training loss: 0.4697 ... Test loss: 1.0804 ... GPU memory usage: 1021/16280\n",
            "Epoch 98/120 ... Training loss: 0.4334 ... Test loss: 1.0178 ... GPU memory usage: 1021/16280\n",
            "Epoch 99/120 ... Training loss: 0.4192 ... Test loss: 1.0849 ... GPU memory usage: 1021/16280\n",
            "Epoch 100/120 ... Training loss: 0.3863 ... Test loss: 1.1023 ... GPU memory usage: 1021/16280\n",
            "Epoch 101/120 ... Training loss: 0.382 ... Test loss: 1.0485 ... GPU memory usage: 1021/16280\n",
            "Epoch 102/120 ... Training loss: 0.3588 ... Test loss: 1.0207 ... GPU memory usage: 1021/16280\n",
            "Epoch 103/120 ... Training loss: 0.3531 ... Test loss: 0.9148 ... GPU memory usage: 1021/16280\n",
            "Epoch 104/120 ... Training loss: 0.3087 ... Test loss: 0.9987 ... GPU memory usage: 1021/16280\n",
            "Epoch 105/120 ... Training loss: 0.3153 ... Test loss: 1.0915 ... GPU memory usage: 1021/16280\n",
            "Epoch 106/120 ... Training loss: 0.2934 ... Test loss: 0.9669 ... GPU memory usage: 1021/16280\n",
            "Epoch 107/120 ... Training loss: 0.2846 ... Test loss: 1.0591 ... GPU memory usage: 1021/16280\n",
            "Epoch 108/120 ... Training loss: 0.2782 ... Test loss: 0.9221 ... GPU memory usage: 1021/16280\n",
            "Epoch 109/120 ... Training loss: 0.2941 ... Test loss: 1.0009 ... GPU memory usage: 1021/16280\n",
            "Epoch 110/120 ... Training loss: 0.2608 ... Test loss: 0.8827 ... GPU memory usage: 1021/16280\n",
            "Epoch 111/120 ... Training loss: 0.2445 ... Test loss: 1.0197 ... GPU memory usage: 1021/16280\n",
            "Epoch 112/120 ... Training loss: 0.2625 ... Test loss: 0.965 ... GPU memory usage: 1021/16280\n",
            "Epoch 113/120 ... Training loss: 0.2244 ... Test loss: 0.9007 ... GPU memory usage: 1021/16280\n",
            "Epoch 114/120 ... Training loss: 0.2302 ... Test loss: 0.9238 ... GPU memory usage: 1021/16280\n",
            "Epoch 115/120 ... Training loss: 0.2202 ... Test loss: 1.003 ... GPU memory usage: 1021/16280\n",
            "Epoch 116/120 ... Training loss: 0.215 ... Test loss: 0.9037 ... GPU memory usage: 1021/16280\n",
            "Epoch 117/120 ... Training loss: 0.2256 ... Test loss: 0.9362 ... GPU memory usage: 1021/16280\n",
            "Epoch 118/120 ... Training loss: 0.2021 ... Test loss: 0.9418 ... GPU memory usage: 1021/16280\n",
            "Epoch 119/120 ... Training loss: 0.1864 ... Test loss: 0.9124 ... GPU memory usage: 1021/16280\n",
            "Epoch 120/120 ... Training loss: 0.2015 ... Test loss: 0.9194 ... GPU memory usage: 1021/16280\n",
            "Performing stochastic weight averaging...\n",
            "Model (final state) evaluation loss: 0.8672\n",
            "Plotting training history\n"
          ]
        },
        {
          "output_type": "display_data",
          "data": {
            "image/png": "[encoded data removed]",
            "text/plain": [
              "<Figure size 432x432 with 1 Axes>"
            ]
          },
          "metadata": {
            "needs_background": "light"
          }
        }
      ]
    },
    {
      "cell_type": "markdown",
      "metadata": {
        "id": "PyGLIjMn-5j4"
      },
      "source": [
        "Make a prediction with the trained model:"
      ]
    },
    {
      "cell_type": "code",
      "metadata": {
        "colab": {
          "base_uri": "https://localhost:8080/"
        },
        "id": "mBGZBXnz3Qbw",
        "outputId": "28bd9b47-1c80-4379-a795-b8b5cc003a7a"
      },
      "source": [
        "prediction = model.predict(imgs_test, norm=False)"
      ],
      "execution_count": null,
      "outputs": [
        {
          "output_type": "stream",
          "name": "stdout",
          "text": [
            "Batch 10/10\n",
            "174 images were decoded in approximately 0.5312 seconds\n"
          ]
        }
      ]
    },
    {
      "cell_type": "markdown",
      "metadata": {
        "id": "b_yeyL-5-76U"
      },
      "source": [
        "Visualize predicted spectra for selected test images:\n",
        "\n",
        "(note that predictions get improved as if we train longer)"
      ]
    },
    {
      "cell_type": "code",
      "metadata": {
        "colab": {
          "base_uri": "https://localhost:8080/",
          "height": 282
        },
        "id": "lsrOTx-O4H6X",
        "outputId": "5d53b407-eb63-4be3-a72f-0098a0690112"
      },
      "source": [
        "k = 150\n",
        "\n",
        "_, (ax1, ax2) = plt.subplots(1, 2, figsize=(10, 4))\n",
        "ax1.imshow(imgs_test[k], cmap='gray', label=\"Input image\")\n",
        "ax2.plot(specval[0,:64], spectra_test[k], label=\"Ground truth\")\n",
        "ax2.plot(specval[0,:64], prediction[k], label=\"Prediction\")\n",
        "plt.legend()"
      ],
      "execution_count": null,
      "outputs": [
        {
          "output_type": "execute_result",
          "data": {
            "text/plain": [
              "<matplotlib.legend.Legend at 0x7fa2710a5610>"
            ]
          },
          "metadata": {},
          "execution_count": 11
        },
        {
          "output_type": "display_data",
          "data": {
            "image/png": "[encoded data removed]",
            "text/plain": [
              "<Figure size 720x288 with 2 Axes>"
            ]
          },
          "metadata": {
            "needs_background": "light"
          }
        }
      ]
    },
    {
      "cell_type": "code",
      "metadata": {
        "id": "osx--biaVQO5"
      },
      "source": [
        ""
      ],
      "execution_count": null,
      "outputs": []
    }
  ]
}